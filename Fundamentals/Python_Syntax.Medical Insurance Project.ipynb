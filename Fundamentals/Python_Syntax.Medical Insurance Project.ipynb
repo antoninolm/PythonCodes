{
 "cells": [
  {
   "cell_type": "markdown",
   "metadata": {},
   "source": [
    "\n",
    "# Task 1\n",
    "Our first step is to create the variables for each factor we will consider when estimating medical insurance costs.\n",
    "These are the variables we will need to create:\n",
    "\n",
    "age: age of the individual in years\n",
    "\n",
    "sex: 0 for female, 1 for male*\n",
    "\n",
    "bmi: individual’s body mass index\n",
    "\n",
    "num_of_children: number of children the individual has\n",
    "\n",
    "smoker: 0 for a non-smoker, 1 for a smoker\n",
    "\n",
    "At the top of script.py, create the following variables for a 28-year-old, nonsmoking woman who has three children and a BMI of 26.2."
   ]
  },
  {
   "cell_type": "code",
   "execution_count": 1,
   "metadata": {},
   "outputs": [],
   "source": [
    "# create the initial variables below\n",
    "age = 28\n",
    "sex = 0\n",
    "bmi= 26.2\n",
    "num_of_children = 3\n",
    "smoker = 0\n",
    "\n"
   ]
  },
  {
   "cell_type": "markdown",
   "metadata": {},
   "source": [
    "# Task 2\n",
    "After the declaration of the variables, create a variable called insurance_cost that utilizes the following formula:\n",
    "\n",
    "\\begin{aligned} insurance\\_cost = 250*age - 128*sex \\\\ + 370*bmi + 425*num\\_of\\_children \\\\ + 24000*smoker - 12500 \\end{aligned} \n",
    "insurance_cost=250∗age−128∗sex\n",
    "+370∗bmi+425∗num_of_children\n",
    "+24000∗smoker−12500\n",
    "​\n"
   ]
  },
  {
   "cell_type": "code",
   "execution_count": 2,
   "metadata": {},
   "outputs": [],
   "source": [
    "# Add insurance estimate formula below\n",
    "insurance_cost = 250 * age - 128 * sex + 370 * bmi + 425 * num_of_children + 24000 * smoker - 12500"
   ]
  },
  {
   "cell_type": "markdown",
   "metadata": {},
   "source": [
    "# Task 3\n",
    "\n",
    "Let’s display this value in an informative way. Print out the following string in the terminal:\n",
    "\n",
    "This person's insurance cost is {insurance_cost} dollars.\n",
    "\n",
    "You will need to use string concatenation, including the str() function to print out the insurance_cost"
   ]
  },
  {
   "cell_type": "code",
   "execution_count": 3,
   "metadata": {},
   "outputs": [
    {
     "name": "stdout",
     "output_type": "stream",
     "text": [
      "This person's insurance cost is 5469.0 dollars.\n"
     ]
    }
   ],
   "source": [
    "print(\"This person's insurance cost is \" + str(insurance_cost) + \" dollars.\")"
   ]
  },
  {
   "cell_type": "markdown",
   "metadata": {},
   "source": [
    "# Task 4\n",
    "\n",
    "We have seen how our formula can estimate costs for one individual. Now let’s play with some individual factors to see what role each one plays in our estimation!\n",
    "\n",
    "Let’s start with the age factor. Using a plus-equal operator, add 4 years to our age variable."
   ]
  },
  {
   "cell_type": "code",
   "execution_count": 6,
   "metadata": {},
   "outputs": [],
   "source": [
    "# Age Factor\n",
    "age += 4"
   ]
  },
  {
   "cell_type": "markdown",
   "metadata": {},
   "source": [
    "# Task 5\n",
    "\n",
    "Now that we have changed our age value, we want to recalculate our insurance cost. Declare a new variable called new_insurance_cost underneath the expression that increased age by 4.\n",
    "\n",
    "Make sure you leave the line with the insurance_cost variable the same. We will use it later in our program!"
   ]
  },
  {
   "cell_type": "code",
   "execution_count": 7,
   "metadata": {},
   "outputs": [],
   "source": [
    "new_insurance_cost = 50 * age - 128 * sex + 370 * bmi + 425 * num_of_children + 24000 * smoker - 12500\n"
   ]
  },
  {
   "cell_type": "markdown",
   "metadata": {},
   "source": [
    "# Task 6\n",
    "Next, we want to find the difference between our new_insurance_cost and insurance_cost. To do this, let’s create a new variable called change_in_insurance_cost and set it equal to the difference between new_insurance_cost and insurance_cost.\n",
    "\n",
    "Note: depending on the order that we subtract (eg., new_insurance_cost - insurance cost vs. insurance_cost - new_insurance_cost), we’ll get a positive or negative version of the same number. To make this difference interpretable, let’s calculate new_insurance_cost - insurance_cost. Then we can say, “people who are four years older have estimated insurance costs that are change_in_insurance_cost dollars different, where the sign of change_in_insurance_cost tells us whether the cost is higher or lower."
   ]
  },
  {
   "cell_type": "code",
   "execution_count": 8,
   "metadata": {},
   "outputs": [],
   "source": [
    "change_in_insurance_cost = new_insurance_cost - insurance_cost"
   ]
  },
  {
   "cell_type": "markdown",
   "metadata": {},
   "source": [
    "# Task 7\n",
    "We want to display this information in an informative way similar to the output from instruction 3. On the next line, print the following string in the terminal, where XXX is replaced by the value of change_in_insurance_cost:\n",
    "\n",
    "The change in cost of insurance after increasing the age by 4 years is XXX dollars.\n",
    "Doing this will tell us how 4 years in age affects medical insurance cost estimates assuming that all other variables remain the same.\n",
    "\n",
    "You will need to concatenate strings and use the str() method."
   ]
  },
  {
   "cell_type": "code",
   "execution_count": 9,
   "metadata": {},
   "outputs": [
    {
     "name": "stdout",
     "output_type": "stream",
     "text": [
      "The change in cost of insurance after increasing the age by 4 years is -5200.0 dollars.\n"
     ]
    }
   ],
   "source": [
    "print(\"The change in cost of insurance after increasing the age by 4 years is \" + str(change_in_insurance_cost) + \" dollars.\")"
   ]
  },
  {
   "cell_type": "markdown",
   "metadata": {},
   "source": [
    "# Task 8\n",
    "Now that you have looked at the age factor, let’s move onto another one: BMI. First, we have to redefine our age variable to be its original value.\n",
    "\n",
    "Set age to 28 following your last piece of code. This will reset its value and allow us to focus on just the change in the BMI factor moving forward.\n",
    "\n",
    "On the next line, using the plus-equal operator, add 3.1 to our bmi variable."
   ]
  },
  {
   "cell_type": "code",
   "execution_count": 10,
   "metadata": {},
   "outputs": [],
   "source": [
    "age = 28\n",
    "bmi += 3.1"
   ]
  },
  {
   "cell_type": "markdown",
   "metadata": {},
   "source": [
    "# Task 9\n",
    "Now let’s find out how a change in BMI affects insurance costs. Our next steps are pretty much the same as we have done before when looking at age.\n",
    "\n",
    "Below the line where bmi was increased by 3.1, rewrite the insurance cost formula and assign it to the variable name new_insurance_cost.\n",
    "\n",
    "Save the difference between new_insurance_cost and insurance_cost in a variable called change_in_insurance_cost\n",
    "\n",
    "Display the following string in the output terminal, where XXX is replaced by the value of change_in_insurance_cost:\n",
    "\n",
    "The change in estimated insurance cost after increasing BMI by 3.1 is XXX dollars.\n",
    "You can leave the code above it as is, including the print statements."
   ]
  },
  {
   "cell_type": "code",
   "execution_count": 11,
   "metadata": {},
   "outputs": [
    {
     "name": "stdout",
     "output_type": "stream",
     "text": [
      "The change in estimated insurance cost after increasing BMI by 3.1 is -4453.0 dollars.\n"
     ]
    }
   ],
   "source": [
    "new_insurance_cost = 50 * age - 128 * sex + 370 * bmi + 425 * num_of_children + 24000 * smoker - 12500\n",
    "change_in_insurance_cost = new_insurance_cost - insurance_cost\n",
    "print(\"The change in estimated insurance cost after increasing BMI by 3.1 is \" + str(change_in_insurance_cost) + \" dollars.\")"
   ]
  },
  {
   "cell_type": "markdown",
   "metadata": {},
   "source": [
    "# Task 10\n",
    "Let’s look at the effect sex has on medical insurance costs. Before we make any additional changes, first reassign your bmi variable back to its original value of 26.2.\n",
    "\n",
    "On a new line of code, reassign the value of sex to 1. A reminder that 1 identifies male individuals and 0 identifies female individuals."
   ]
  },
  {
   "cell_type": "code",
   "execution_count": 14,
   "metadata": {},
   "outputs": [],
   "source": [
    "# Male vs. Female Factor\n",
    "bmi= 26.2\n",
    "sex = 1"
   ]
  },
  {
   "cell_type": "markdown",
   "metadata": {},
   "source": [
    "# Task 11\n",
    "Perform the steps below!\n",
    "\n",
    "Rewrite the insurance cost formula and assign it to the variable name new_insurance_cost.\n",
    "\n",
    "Save the difference between new_insurance_cost and insurance_cost in a variable called change_in_insurance_cost.\n",
    "\n",
    "Display the following string in the output terminal, where XXX is replaced by the value of change_in_insurance_cost:\n",
    "\n",
    "The change in estimated cost for being male instead of female is XXX dollars."
   ]
  },
  {
   "cell_type": "code",
   "execution_count": 13,
   "metadata": {},
   "outputs": [
    {
     "name": "stdout",
     "output_type": "stream",
     "text": [
      "The change in estimated cost for being male instead of female is -5728.0 dollars.\n"
     ]
    }
   ],
   "source": [
    "new_insurance_cost = 50 * age - 128 * sex + 370 * bmi + 425 * num_of_children + 24000 * smoker - 12500\n",
    "change_in_insurance_cost = new_insurance_cost - insurance_cost\n",
    "print(\"The change in estimated cost for being male instead of female is \" + str(change_in_insurance_cost) + \" dollars.\")"
   ]
  },
  {
   "cell_type": "markdown",
   "metadata": {},
   "source": [
    "# Task 12\n",
    "So far we have looked at 3 of the 5 factors in the insurance costs formula. The two remaining are smoker and num_of_children. If you want to keep challenging yourself, spend some time investigating these factors!\n",
    "\n",
    "Rewrite the insurance cost formula and assign it to the variable name new_insurance_cost.\n",
    "\n",
    "Save the difference between new_insurance_cost and insurance_cost in a variable called change_in_insurance_cost\n",
    "\n",
    "Display the information in the terminal!"
   ]
  },
  {
   "cell_type": "code",
   "execution_count": 16,
   "metadata": {},
   "outputs": [],
   "source": [
    "# Extra Practice\n",
    "# smoker\n",
    "bmi= 26.2\n",
    "smoker = 1"
   ]
  },
  {
   "cell_type": "code",
   "execution_count": 17,
   "metadata": {},
   "outputs": [
    {
     "name": "stdout",
     "output_type": "stream",
     "text": [
      "The change in estimated cost for being a smoker instead of a non smoker is 18272.0 dollars.\n"
     ]
    }
   ],
   "source": [
    "new_insurance_cost = 50 * age - 128 * sex + 370 * bmi + 425 * num_of_children + 24000 * smoker - 12500\n",
    "change_in_insurance_cost = new_insurance_cost - insurance_cost\n",
    "print(\"The change in estimated cost for being a smoker instead of a non smoker is \" + str(change_in_insurance_cost) + \" dollars.\")"
   ]
  },
  {
   "cell_type": "code",
   "execution_count": 18,
   "metadata": {},
   "outputs": [],
   "source": [
    "# num_ofchildren\n",
    "smoker = 0\n",
    "num_of_children = 4"
   ]
  },
  {
   "cell_type": "code",
   "execution_count": 19,
   "metadata": {},
   "outputs": [
    {
     "name": "stdout",
     "output_type": "stream",
     "text": [
      "The change in estimated cost for having 4 children instead of 3 children is -5728.0 dollars.\n"
     ]
    }
   ],
   "source": [
    "new_insurance_cost = 50 * age - 128 * sex + 370 * bmi + 425 * num_of_children + 24000 * smoker - 12500\n",
    "change_in_insurance_cost = new_insurance_cost - insurance_cost\n",
    "print(\"The change in estimated cost for having 4 children instead of 3 children is \" + str(change_in_insurance_cost) + \" dollars.\")"
   ]
  }
 ],
 "metadata": {
  "interpreter": {
   "hash": "c64659799d540f3c0cef722e5a9676765767ee7673080d93c86c8bbb95c72b5a"
  },
  "kernelspec": {
   "display_name": "Python 3.9.7 64-bit ('base': conda)",
   "language": "python",
   "name": "python3"
  },
  "language_info": {
   "codemirror_mode": {
    "name": "ipython",
    "version": 3
   },
   "file_extension": ".py",
   "mimetype": "text/x-python",
   "name": "python",
   "nbconvert_exporter": "python",
   "pygments_lexer": "ipython3",
   "version": "3.9.7"
  },
  "orig_nbformat": 4
 },
 "nbformat": 4,
 "nbformat_minor": 2
}
