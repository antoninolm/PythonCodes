{
 "cells": [
  {
   "cell_type": "markdown",
   "metadata": {},
   "source": [
    "Question 1.\n",
    "\n",
    "Chocolate firm chocoBury wants to do smart advertisement for their newly launched chocolate brand across Germany in 2019 and target right aged customers. They have collected the years of birth of all of the customers and want to calculate their respective age.\n",
    "Given below is a list of 10 customers with year of birth, however, the list can be as large as several thousands of customers.\n",
    "\n",
    "[1999, 1995, 2005, 2010, 2007, 2006, 1994, 1996, 1979, 2008]\n",
    "\n",
    "The task is to write a function that returns the age of customers.\n",
    "\n",
    "Sample input:   [1999, 1995, 2005, 2010, 2007, 2006, 1994, 1996, 1979, 2008]\n",
    "\n",
    "Sample output: [20, 24, 14, 9, 12, 13, 25, 23, 40, 11]"
   ]
  },
  {
   "cell_type": "code",
   "execution_count": 22,
   "metadata": {},
   "outputs": [
    {
     "name": "stdout",
     "output_type": "stream",
     "text": [
      "[1999, 1995, 2005, 2010, 2007, 2006, 1994, 1996, 1979, 2008]\n",
      "[20, 24, 14, 9, 12, 13, 25, 23, 40, 11]\n"
     ]
    }
   ],
   "source": [
    "birth_years = [1999, 1995, 2005, 2010, 2007, 2006, 1994, 1996, 1979, 2008]\n",
    "ages = [20, 24, 14, 9, 12, 13, 25, 23, 40, 11]\n",
    "print(birth_years)\n",
    "print(ages)"
   ]
  },
  {
   "cell_type": "code",
   "execution_count": 23,
   "metadata": {},
   "outputs": [
    {
     "name": "stdout",
     "output_type": "stream",
     "text": [
      "40\n"
     ]
    }
   ],
   "source": [
    "def yearage (year):\n",
    "    i = birth_years.index(year)\n",
    "    return ages[i]\n",
    "\n",
    "result = yearage(1979)\n",
    "print(result)"
   ]
  },
  {
   "cell_type": "markdown",
   "metadata": {},
   "source": [
    "Question 2.\n",
    "\n",
    "It costs much for the chocolate firm chocoBury to do marketing for wide range of customers. To save money, they want to narrow down the range of ages obtained in previous list.\n",
    "Also, the oldest person and youngest person do not truly represent the targeted group for marketing campaign and they can be considered as outliers.\n",
    "The task is to write a function that removes the outliers (the oldest and youngest person’s age) and return the new list with age of 8 persons (in this case which contains data for 10 customers initially).\n",
    "\n",
    "Sample input: [20, 24, 14, 9, 12, 13, 25, 23, 40, 11]\n",
    "\n",
    "Sample output: [20, 24, 14, 12, 13, 25, 23, 11]"
   ]
  },
  {
   "cell_type": "code",
   "execution_count": 25,
   "metadata": {},
   "outputs": [],
   "source": [
    "def removeoutliers ():\n",
    "    ages.remove(max(ages))\n",
    "    ages.remove(min(ages))\n",
    "    \"\"\"\n",
    "    OR\n",
    "    ages.sort()\n",
    "    ages.remove(ages[0])\n",
    "    ages.remove(ages[-1])\n",
    "    \n",
    "    \"\"\""
   ]
  },
  {
   "cell_type": "code",
   "execution_count": 26,
   "metadata": {},
   "outputs": [
    {
     "name": "stdout",
     "output_type": "stream",
     "text": [
      "[20, 24, 14, 12, 13, 25, 23, 11]\n"
     ]
    }
   ],
   "source": [
    "removeoutliers()\n",
    "print(ages)"
   ]
  },
  {
   "cell_type": "markdown",
   "metadata": {},
   "source": [
    "Question 3.\n",
    "\n",
    "The chocolate firm chocoBury did the survey of customers in Berlin and Munich separately and came up with the following lists of the age of customers.\n",
    "\n",
    "berlin = [15, 13, 16, 18, 19, 10, 12 ]\n",
    "\n",
    "munich = [7, 13, 15, 20, 19, 18, 10, 16]\n",
    "\n",
    "However, marketing manager Henry thinks that a single list would be better to look at rather than having different lists from these 2 cities. So, Henry wants to have a common list from these 2 cities.\n",
    "The task is to write a function that takes these 2 lists as input and returns the common age values.\n",
    "\n",
    "Sample input: [15, 13, 16, 18, 19, 10, 12 ], [7, 13, 15, 20, 19, 18, 10, 16]\n",
    "\n",
    "Sample output: [15,13,16,18,19,10]"
   ]
  },
  {
   "cell_type": "code",
   "execution_count": 28,
   "metadata": {},
   "outputs": [],
   "source": [
    "berlin = [15, 13, 16, 18, 19, 10, 12 ]\n",
    "munich = [7, 13, 15, 20, 19, 18, 10, 16]"
   ]
  },
  {
   "cell_type": "code",
   "execution_count": 35,
   "metadata": {},
   "outputs": [
    {
     "name": "stdout",
     "output_type": "stream",
     "text": [
      "[13, 15, 19, 18, 10, 16]\n"
     ]
    }
   ],
   "source": [
    "common_ages_list = []\n",
    "def commonages ():\n",
    "        for age in munich:\n",
    "                if age in berlin:\n",
    "                    common_ages_list.append(age)\n",
    "commonages()\n",
    "print(common_ages_list)\n",
    "\n"
   ]
  },
  {
   "cell_type": "markdown",
   "metadata": {},
   "source": [
    "Question 4. \n",
    "\n",
    "After careful investigation of the common age list, Henry, the marketing manager of the chocolate firm chocoBury, found out that many of the customer ages are simply duplicate values.  So, he asked Mark, the only software developer in the Chocolate company chocoBury, to give him the list with no redundant age values.The task is to write a function that takes the list with duplicate values as input and return the list with unique age values. \n",
    "\n",
    "Sample input: [15,13,16,18,19,15,10]\n",
    "\n",
    "Sample output: [15,13,16,18,19,10]"
   ]
  },
  {
   "cell_type": "code",
   "execution_count": 41,
   "metadata": {},
   "outputs": [
    {
     "name": "stdout",
     "output_type": "stream",
     "text": [
      "[15, 13, 16, 18, 19, 10]\n"
     ]
    }
   ],
   "source": [
    "def uniquevalues():\n",
    "    listinput = [15,15,13,16,18,13,19,15,19,10]\n",
    "    listoutput = []\n",
    "    for value in listinput:\n",
    "        if (value in listoutput) == False:\n",
    "            listoutput.append(value)\n",
    "        else:\n",
    "            pass\n",
    "    print(listoutput)\n",
    "            \n",
    "\n",
    "uniquevalues()\n",
    "\n",
    " "
   ]
  },
  {
   "cell_type": "markdown",
   "metadata": {},
   "source": [
    "Question 5. \n",
    "\n",
    "Henry generally asks software developer Mark if a certain age value is present in the list of customer ages or not. However, Henry, a busy manager, often forgets what Mark replies and asks the same question sometimes multiple times.\n",
    "Mark, a smart guy, thinks it is too boring for him and hence, he thinks why not he creates a function which will listen to Henry’s query and read through the age list & finally reply back to Henry if that age is present or not in the list.\n",
    "The task is to write a function that takes an input list and value of age to find as input and return true or false if the age value is present or not.\n",
    "            \n",
    "Sample input: [15,13,16,18,19,15,10], 15\n",
    "\n",
    "Sample output: True\n",
    "\n",
    "Sample input: [15,13,16,18,19,15,10], 28\n",
    "\n",
    "Sample output: False"
   ]
  },
  {
   "cell_type": "code",
   "execution_count": 23,
   "metadata": {},
   "outputs": [
    {
     "name": "stdout",
     "output_type": "stream",
     "text": [
      "True\n",
      "False\n"
     ]
    }
   ],
   "source": [
    "def henryquery(x):\n",
    "    input = [15,13,16,18,19,15,10]\n",
    "    if x in input:\n",
    "        return True\n",
    "    else:\n",
    "        return False\n",
    "print(henryquery(15))\n",
    "print(henryquery(28))"
   ]
  }
 ],
 "metadata": {
  "interpreter": {
   "hash": "c64659799d540f3c0cef722e5a9676765767ee7673080d93c86c8bbb95c72b5a"
  },
  "kernelspec": {
   "display_name": "Python 3.9.7 64-bit ('base': conda)",
   "language": "python",
   "name": "python3"
  },
  "language_info": {
   "codemirror_mode": {
    "name": "ipython",
    "version": 3
   },
   "file_extension": ".py",
   "mimetype": "text/x-python",
   "name": "python",
   "nbconvert_exporter": "python",
   "pygments_lexer": "ipython3",
   "version": "3.9.7"
  },
  "orig_nbformat": 4
 },
 "nbformat": 4,
 "nbformat_minor": 2
}
