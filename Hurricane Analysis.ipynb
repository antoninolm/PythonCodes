{
 "cells": [
  {
   "cell_type": "code",
   "execution_count": null,
   "metadata": {},
   "outputs": [],
   "source": []
  },
  {
   "cell_type": "markdown",
   "metadata": {},
   "source": [
    "# Names of the hurrcanes"
   ]
  },
  {
   "cell_type": "code",
   "execution_count": 3,
   "metadata": {},
   "outputs": [],
   "source": [
    "names = ['Cuba I', 'San Felipe II Okeechobee', 'Bahamas', 'Cuba II', 'CubaBrownsville', 'Tampico', 'Labor Day', 'New England', 'Carol', 'Janet', 'Carla', 'Hattie', 'Beulah', 'Camille', 'Edith', 'Anita', 'David', 'Allen', 'Gilbert', 'Hugo', 'Andrew', 'Mitch', 'Isabel', 'Ivan', 'Emily', 'Katrina', 'Rita', 'Wilma', 'Dean', 'Felix', 'Matthew', 'Irma', 'Maria', 'Michael']"
   ]
  },
  {
   "cell_type": "markdown",
   "metadata": {},
   "source": [
    "# Months of the hurricane"
   ]
  },
  {
   "cell_type": "code",
   "execution_count": 4,
   "metadata": {},
   "outputs": [],
   "source": [
    "months = ['October', 'September', 'September', 'November', 'August', 'September', 'September', 'September', 'September', 'September', 'September', 'October', 'September', 'August', 'September', 'September', 'August', 'August', 'September', 'September', 'August', 'October', 'September', 'September', 'July', 'August', 'September', 'October', 'August', 'September', 'October', 'September', 'September', 'October']"
   ]
  },
  {
   "cell_type": "markdown",
   "metadata": {},
   "source": [
    "# Years of the hurricane"
   ]
  },
  {
   "cell_type": "code",
   "execution_count": 5,
   "metadata": {},
   "outputs": [],
   "source": [
    "years = [1924, 1928, 1932, 1932, 1933, 1933, 1935, 1938, 1953, 1955, 1961, 1961, 1967, 1969, 1971, 1977, 1979, 1980, 1988, 1989, 1992, 1998, 2003, 2004, 2005, 2005, 2005, 2005, 2007, 2007, 2016, 2017, 2017, 2018]"
   ]
  },
  {
   "cell_type": "markdown",
   "metadata": {},
   "source": [
    "# maximum sustained winds (mph) of hurricanes"
   ]
  },
  {
   "cell_type": "code",
   "execution_count": 6,
   "metadata": {},
   "outputs": [],
   "source": [
    "max_sustained_winds = [165, 160, 160, 175, 160, 160, 185, 160, 160, 175, 175, 160, 160, 175, 160, 175, 175, 190, 185, 160, 175, 180, 165, 165, 160, 175, 180, 185, 175, 175, 165, 180, 175, 160]"
   ]
  },
  {
   "cell_type": "markdown",
   "metadata": {},
   "source": [
    "# areas affected by each hurricane"
   ]
  },
  {
   "cell_type": "code",
   "execution_count": 7,
   "metadata": {},
   "outputs": [],
   "source": [
    "areas_affected = [['Central America', 'Mexico', 'Cuba', 'Florida', 'The Bahamas'], ['Lesser Antilles', 'The Bahamas', 'United States East Coast', 'Atlantic Canada'], ['The Bahamas', 'Northeastern United States'], ['Lesser Antilles', 'Jamaica', 'Cayman Islands', 'Cuba', 'The Bahamas', 'Bermuda'], ['The Bahamas', 'Cuba', 'Florida', 'Texas', 'Tamaulipas'], ['Jamaica', 'Yucatn Peninsula'], ['The Bahamas', 'Florida', 'Georgia', 'The Carolinas', 'Virginia'], ['Southeastern United States', 'Northeastern United States', 'Southwestern Quebec'], ['Bermuda', 'New England', 'Atlantic Canada'], ['Lesser Antilles', 'Central America'], ['Texas', 'Louisiana', 'Midwestern United States'], ['Central America'], ['The Caribbean', 'Mexico', 'Texas'], ['Cuba', 'United States Gulf Coast'], ['The Caribbean', 'Central America', 'Mexico', 'United States Gulf Coast'], ['Mexico'], ['The Caribbean', 'United States East coast'], ['The Caribbean', 'Yucatn Peninsula', 'Mexico', 'South Texas'], ['Jamaica', 'Venezuela', 'Central America', 'Hispaniola', 'Mexico'], ['The Caribbean', 'United States East Coast'], ['The Bahamas', 'Florida', 'United States Gulf Coast'], ['Central America', 'Yucatn Peninsula', 'South Florida'], ['Greater Antilles', 'Bahamas', 'Eastern United States', 'Ontario'], ['The Caribbean', 'Venezuela', 'United States Gulf Coast'], ['Windward Islands', 'Jamaica', 'Mexico', 'Texas'], ['Bahamas', 'United States Gulf Coast'], ['Cuba', 'United States Gulf Coast'], ['Greater Antilles', 'Central America', 'Florida'], ['The Caribbean', 'Central America'], ['Nicaragua', 'Honduras'], ['Antilles', 'Venezuela', 'Colombia', 'United States East Coast', 'Atlantic Canada'], ['Cape Verde', 'The Caribbean', 'British Virgin Islands', 'U.S. Virgin Islands', 'Cuba', 'Florida'], ['Lesser Antilles', 'Virgin Islands', 'Puerto Rico', 'Dominican Republic', 'Turks and Caicos Islands'], ['Central America', 'United States Gulf Coast (especially Florida Panhandle)']]"
   ]
  },
  {
   "cell_type": "markdown",
   "metadata": {},
   "source": [
    "# damages (USD($)) of hurricanes"
   ]
  },
  {
   "cell_type": "code",
   "execution_count": 8,
   "metadata": {},
   "outputs": [],
   "source": [
    "damages = ['Damages not recorded', '100M', 'Damages not recorded', '40M', '27.9M', '5M', 'Damages not recorded', '306M', '2M', '65.8M', '326M', '60.3M', '208M', '1.42B', '25.4M', 'Damages not recorded', '1.54B', '1.24B', '7.1B', '10B', '26.5B', '6.2B', '5.37B', '23.3B', '1.01B', '125B', '12B', '29.4B', '1.76B', '720M', '15.1B', '64.8B', '91.6B', '25.1B']"
   ]
  },
  {
   "cell_type": "markdown",
   "metadata": {},
   "source": [
    "# deaths for each hurricane"
   ]
  },
  {
   "cell_type": "code",
   "execution_count": 9,
   "metadata": {},
   "outputs": [],
   "source": [
    "deaths = [90,4000,16,3103,179,184,408,682,5,1023,43,319,688,259,37,11,2068,269,318,107,65,19325,51,124,17,1836,125,87,45,133,603,138,3057,74]\n"
   ]
  },
  {
   "cell_type": "markdown",
   "metadata": {},
   "source": [
    "# TASK 1\n",
    "\n",
    "Hurricanes, also known as cyclones or typhoons, are one of the most powerful forces of nature on Earth. Due to climate change caused by human activity, the number and intensity of hurricanes has risen, calling for better preparation by the many communities that are devastated by them. As a concerned environmentalist, you want to look at data about the most powerful hurricanes that have occurred.\n",
    "\n",
    "Begin by looking at the damages list. The list contains strings representing the total cost in USD($) caused by 34 category 5 hurricanes (wind speeds ≥ 157 mph (252 km/h )) in the Atlantic region. For some of the hurricanes, damage data was not recorded (\"Damages not recorded\"), while the rest are written in the format \"Prefix-B/M\", where B stands for billions (1000000000) and M stands for millions (1000000).\n",
    "\n",
    "Write a function that returns a new list of updated damages where the recorded data is converted to float values and the missing data is retained as \"Damages not recorded\".\n",
    "\n",
    "Test your function with the data stored in damages."
   ]
  },
  {
   "cell_type": "code",
   "execution_count": 10,
   "metadata": {},
   "outputs": [],
   "source": [
    "updated_damages = []\n",
    "conversion = {\"M\": 1000000, \"B\": 1000000000}\n",
    "for dem in damages:\n",
    "    if dem[-1] == \"M\":\n",
    "        updated_damages.append(float(dem[:-1])*conversion[\"M\"])\n",
    "    elif dem[-1] == \"B\":\n",
    "        updated_damages.append(float(dem[:-1])*conversion[\"B\"])\n",
    "    else:\n",
    "        updated_damages.append(\"Damages not recorded\")"
   ]
  },
  {
   "cell_type": "code",
   "execution_count": 11,
   "metadata": {},
   "outputs": [],
   "source": [
    "def convert_damages_data(damages_list):\n",
    "    updated_damages = []\n",
    "    conversion = {\"M\": 1000000, \"B\": 1000000000}\n",
    "    for dem in damages:\n",
    "        if dem[-1] == \"M\":\n",
    "            updated_damages.append(float(dem[:-1])*conversion[\"M\"])\n",
    "        elif dem[-1] == \"B\":\n",
    "            updated_damages.append(float(dem[:-1])*conversion[\"B\"])\n",
    "        else:\n",
    "            updated_damages.append(\"Damages not recorded\")\n",
    "    return updated_damages\n"
   ]
  },
  {
   "cell_type": "code",
   "execution_count": 12,
   "metadata": {},
   "outputs": [],
   "source": [
    "float_damages = convert_damages_data(damages)"
   ]
  },
  {
   "cell_type": "markdown",
   "metadata": {},
   "source": [
    "# Task 2\n",
    "\n",
    "Additional data collected on the 34 strongest Atlantic hurricanes are provided in a series of lists. The data includes:\n",
    "\n",
    "names: names of the hurricanes\n",
    "months: months in which the hurricanes occurred\n",
    "years: years in which the hurricanes occurred\n",
    "max_sustained_winds: maximum sustained winds (miles per hour) of the hurricanes\n",
    "areas_affected: list of different areas affected by each of the hurricanes\n",
    "deaths: total number of deaths caused by each of the hurricanes\n",
    "The data is organized such that the data at each index, from 0 to 33, corresponds to the same hurricane.\n",
    "\n",
    "For example, names[0] yields the “Cuba I” hurricane, which ouccred in months[0] (October) years[0] (1924).\n",
    "\n",
    "Write a function that constructs a dictionary made out of the lists, where the keys of the dictionary are the names of the hurricanes, and the values are dictionaries themselves containing a key for each piece of data (Name, Month, Year,Max Sustained Wind, Areas Affected, Damage, Death) about the hurricane.\n",
    "\n",
    "Thus the key \"Cuba I\" would have the value: {'Name': 'Cuba I', 'Month': 'October', 'Year': 1924, 'Max Sustained Wind': 165, 'Areas Affected': ['Central America', 'Mexico', 'Cuba', 'Florida', 'The Bahamas'], 'Damage': 'Damages not recorded', 'Deaths': 90}.\n",
    "\n",
    "Test your function on the lists of data provided."
   ]
  },
  {
   "cell_type": "code",
   "execution_count": 13,
   "metadata": {},
   "outputs": [],
   "source": [
    "def create_dictionaries(names, months, years, max_sustained_winds, areas_affected, damages, deaths):\n",
    "    index = list(range(len(names)))\n",
    "    hurri_dictionary = {}\n",
    "    for i in index:\n",
    "        hurri_dictionary[names[i]] = {\n",
    "            \"Name\": names[i], \n",
    "            \"Month\": months[i], \n",
    "            \"Year\": years[i], \n",
    "            \"Max Sustained Wind\": max_sustained_winds[i], \n",
    "            \"Areas Affected\": areas_affected[i], \n",
    "            \"Damages\": damages[i], \n",
    "            \"Deaths\": deaths[i]}\n",
    "    return hurri_dictionary"
   ]
  },
  {
   "cell_type": "code",
   "execution_count": 41,
   "metadata": {},
   "outputs": [],
   "source": [
    "hurricanes_dictionaries = create_dictionaries(names, months, years, max_sustained_winds, areas_affected, float_damages, deaths)"
   ]
  },
  {
   "cell_type": "code",
   "execution_count": 42,
   "metadata": {},
   "outputs": [
    {
     "name": "stdout",
     "output_type": "stream",
     "text": [
      "{'Cuba I': {'Name': 'Cuba I', 'Month': 'October', 'Year': 1924, 'Max Sustained Wind': 165, 'Areas Affected': ['Central America', 'Mexico', 'Cuba', 'Florida', 'The Bahamas'], 'Damages': 'Damages not recorded', 'Deaths': 90}, 'San Felipe II Okeechobee': {'Name': 'San Felipe II Okeechobee', 'Month': 'September', 'Year': 1928, 'Max Sustained Wind': 160, 'Areas Affected': ['Lesser Antilles', 'The Bahamas', 'United States East Coast', 'Atlantic Canada'], 'Damages': 100000000.0, 'Deaths': 4000}, 'Bahamas': {'Name': 'Bahamas', 'Month': 'September', 'Year': 1932, 'Max Sustained Wind': 160, 'Areas Affected': ['The Bahamas', 'Northeastern United States'], 'Damages': 'Damages not recorded', 'Deaths': 16}, 'Cuba II': {'Name': 'Cuba II', 'Month': 'November', 'Year': 1932, 'Max Sustained Wind': 175, 'Areas Affected': ['Lesser Antilles', 'Jamaica', 'Cayman Islands', 'Cuba', 'The Bahamas', 'Bermuda'], 'Damages': 40000000.0, 'Deaths': 3103}, 'CubaBrownsville': {'Name': 'CubaBrownsville', 'Month': 'August', 'Year': 1933, 'Max Sustained Wind': 160, 'Areas Affected': ['The Bahamas', 'Cuba', 'Florida', 'Texas', 'Tamaulipas'], 'Damages': 27900000.0, 'Deaths': 179}, 'Tampico': {'Name': 'Tampico', 'Month': 'September', 'Year': 1933, 'Max Sustained Wind': 160, 'Areas Affected': ['Jamaica', 'Yucatn Peninsula'], 'Damages': 5000000.0, 'Deaths': 184}, 'Labor Day': {'Name': 'Labor Day', 'Month': 'September', 'Year': 1935, 'Max Sustained Wind': 185, 'Areas Affected': ['The Bahamas', 'Florida', 'Georgia', 'The Carolinas', 'Virginia'], 'Damages': 'Damages not recorded', 'Deaths': 408}, 'New England': {'Name': 'New England', 'Month': 'September', 'Year': 1938, 'Max Sustained Wind': 160, 'Areas Affected': ['Southeastern United States', 'Northeastern United States', 'Southwestern Quebec'], 'Damages': 306000000.0, 'Deaths': 682}, 'Carol': {'Name': 'Carol', 'Month': 'September', 'Year': 1953, 'Max Sustained Wind': 160, 'Areas Affected': ['Bermuda', 'New England', 'Atlantic Canada'], 'Damages': 2000000.0, 'Deaths': 5}, 'Janet': {'Name': 'Janet', 'Month': 'September', 'Year': 1955, 'Max Sustained Wind': 175, 'Areas Affected': ['Lesser Antilles', 'Central America'], 'Damages': 65800000.0, 'Deaths': 1023}, 'Carla': {'Name': 'Carla', 'Month': 'September', 'Year': 1961, 'Max Sustained Wind': 175, 'Areas Affected': ['Texas', 'Louisiana', 'Midwestern United States'], 'Damages': 326000000.0, 'Deaths': 43}, 'Hattie': {'Name': 'Hattie', 'Month': 'October', 'Year': 1961, 'Max Sustained Wind': 160, 'Areas Affected': ['Central America'], 'Damages': 60300000.0, 'Deaths': 319}, 'Beulah': {'Name': 'Beulah', 'Month': 'September', 'Year': 1967, 'Max Sustained Wind': 160, 'Areas Affected': ['The Caribbean', 'Mexico', 'Texas'], 'Damages': 208000000.0, 'Deaths': 688}, 'Camille': {'Name': 'Camille', 'Month': 'August', 'Year': 1969, 'Max Sustained Wind': 175, 'Areas Affected': ['Cuba', 'United States Gulf Coast'], 'Damages': 1420000000.0, 'Deaths': 259}, 'Edith': {'Name': 'Edith', 'Month': 'September', 'Year': 1971, 'Max Sustained Wind': 160, 'Areas Affected': ['The Caribbean', 'Central America', 'Mexico', 'United States Gulf Coast'], 'Damages': 25400000.0, 'Deaths': 37}, 'Anita': {'Name': 'Anita', 'Month': 'September', 'Year': 1977, 'Max Sustained Wind': 175, 'Areas Affected': ['Mexico'], 'Damages': 'Damages not recorded', 'Deaths': 11}, 'David': {'Name': 'David', 'Month': 'August', 'Year': 1979, 'Max Sustained Wind': 175, 'Areas Affected': ['The Caribbean', 'United States East coast'], 'Damages': 1540000000.0, 'Deaths': 2068}, 'Allen': {'Name': 'Allen', 'Month': 'August', 'Year': 1980, 'Max Sustained Wind': 190, 'Areas Affected': ['The Caribbean', 'Yucatn Peninsula', 'Mexico', 'South Texas'], 'Damages': 1240000000.0, 'Deaths': 269}, 'Gilbert': {'Name': 'Gilbert', 'Month': 'September', 'Year': 1988, 'Max Sustained Wind': 185, 'Areas Affected': ['Jamaica', 'Venezuela', 'Central America', 'Hispaniola', 'Mexico'], 'Damages': 7100000000.0, 'Deaths': 318}, 'Hugo': {'Name': 'Hugo', 'Month': 'September', 'Year': 1989, 'Max Sustained Wind': 160, 'Areas Affected': ['The Caribbean', 'United States East Coast'], 'Damages': 10000000000.0, 'Deaths': 107}, 'Andrew': {'Name': 'Andrew', 'Month': 'August', 'Year': 1992, 'Max Sustained Wind': 175, 'Areas Affected': ['The Bahamas', 'Florida', 'United States Gulf Coast'], 'Damages': 26500000000.0, 'Deaths': 65}, 'Mitch': {'Name': 'Mitch', 'Month': 'October', 'Year': 1998, 'Max Sustained Wind': 180, 'Areas Affected': ['Central America', 'Yucatn Peninsula', 'South Florida'], 'Damages': 6200000000.0, 'Deaths': 19325}, 'Isabel': {'Name': 'Isabel', 'Month': 'September', 'Year': 2003, 'Max Sustained Wind': 165, 'Areas Affected': ['Greater Antilles', 'Bahamas', 'Eastern United States', 'Ontario'], 'Damages': 5370000000.0, 'Deaths': 51}, 'Ivan': {'Name': 'Ivan', 'Month': 'September', 'Year': 2004, 'Max Sustained Wind': 165, 'Areas Affected': ['The Caribbean', 'Venezuela', 'United States Gulf Coast'], 'Damages': 23300000000.0, 'Deaths': 124}, 'Emily': {'Name': 'Emily', 'Month': 'July', 'Year': 2005, 'Max Sustained Wind': 160, 'Areas Affected': ['Windward Islands', 'Jamaica', 'Mexico', 'Texas'], 'Damages': 1010000000.0, 'Deaths': 17}, 'Katrina': {'Name': 'Katrina', 'Month': 'August', 'Year': 2005, 'Max Sustained Wind': 175, 'Areas Affected': ['Bahamas', 'United States Gulf Coast'], 'Damages': 125000000000.0, 'Deaths': 1836}, 'Rita': {'Name': 'Rita', 'Month': 'September', 'Year': 2005, 'Max Sustained Wind': 180, 'Areas Affected': ['Cuba', 'United States Gulf Coast'], 'Damages': 12000000000.0, 'Deaths': 125}, 'Wilma': {'Name': 'Wilma', 'Month': 'October', 'Year': 2005, 'Max Sustained Wind': 185, 'Areas Affected': ['Greater Antilles', 'Central America', 'Florida'], 'Damages': 29400000000.0, 'Deaths': 87}, 'Dean': {'Name': 'Dean', 'Month': 'August', 'Year': 2007, 'Max Sustained Wind': 175, 'Areas Affected': ['The Caribbean', 'Central America'], 'Damages': 1760000000.0, 'Deaths': 45}, 'Felix': {'Name': 'Felix', 'Month': 'September', 'Year': 2007, 'Max Sustained Wind': 175, 'Areas Affected': ['Nicaragua', 'Honduras'], 'Damages': 720000000.0, 'Deaths': 133}, 'Matthew': {'Name': 'Matthew', 'Month': 'October', 'Year': 2016, 'Max Sustained Wind': 165, 'Areas Affected': ['Antilles', 'Venezuela', 'Colombia', 'United States East Coast', 'Atlantic Canada'], 'Damages': 15100000000.0, 'Deaths': 603}, 'Irma': {'Name': 'Irma', 'Month': 'September', 'Year': 2017, 'Max Sustained Wind': 180, 'Areas Affected': ['Cape Verde', 'The Caribbean', 'British Virgin Islands', 'U.S. Virgin Islands', 'Cuba', 'Florida'], 'Damages': 64800000000.0, 'Deaths': 138}, 'Maria': {'Name': 'Maria', 'Month': 'September', 'Year': 2017, 'Max Sustained Wind': 175, 'Areas Affected': ['Lesser Antilles', 'Virgin Islands', 'Puerto Rico', 'Dominican Republic', 'Turks and Caicos Islands'], 'Damages': 91600000000.0, 'Deaths': 3057}, 'Michael': {'Name': 'Michael', 'Month': 'October', 'Year': 2018, 'Max Sustained Wind': 160, 'Areas Affected': ['Central America', 'United States Gulf Coast (especially Florida Panhandle)'], 'Damages': 25100000000.0, 'Deaths': 74}}\n"
     ]
    }
   ],
   "source": [
    "print(hurricanes_dictionaries)"
   ]
  },
  {
   "cell_type": "code",
   "execution_count": 16,
   "metadata": {},
   "outputs": [
    {
     "name": "stdout",
     "output_type": "stream",
     "text": [
      "{'Name': 'Cuba I', 'Month': 'October', 'Year': 1924, 'Max Sustained Wind': 165, 'Areas Affected': ['Central America', 'Mexico', 'Cuba', 'Florida', 'The Bahamas'], 'Damages': 'Damages not recorded', 'Deaths': 90}\n"
     ]
    }
   ],
   "source": [
    "dictionary1 = list(hurricanes_dictionaries.values())\n",
    "print(dictionary1[0])"
   ]
  },
  {
   "cell_type": "markdown",
   "metadata": {},
   "source": [
    "In addition to organizing the hurricanes in a dictionary with names as the key, you want to be able to organize the hurricanes by year.\n",
    "\n",
    "Write a function that converts the current dictionary of hurricanes to a new dictionary, where the keys are years and the values are lists containing a dictionary for each hurricane that occurred in that year.\n",
    "\n",
    "For example, the key 1932 would yield the value: [{'Name': 'Bahamas', 'Month': 'September', 'Year': 1932, 'Max Sustained Wind': 160, 'Areas Affected': ['The Bahamas', 'Northeastern United States'], 'Damage': 'Damages not recorded', 'Deaths': 16}, {'Name': 'Cuba II', 'Month': 'November', 'Year': 1932, 'Max Sustained Wind': 175, 'Areas Affected': ['Lesser Antilles', 'Jamaica', 'Cayman Islands', 'Cuba', 'The Bahamas', 'Bermuda'], 'Damage': 40000000.0, 'Deaths': 3103}].\n",
    "\n",
    "Test your function on your hurricane dictionary."
   ]
  },
  {
   "cell_type": "code",
   "execution_count": 22,
   "metadata": {},
   "outputs": [],
   "source": [
    "def dictionary_by_year(originary_dictionary):\n",
    "    index = list(range(len(originary_dictionary)))\n",
    "    dictionaries_list = list(originary_dictionary.values())\n",
    "    years_list = []\n",
    "    hurricane_info = []\n",
    "    for i in index:\n",
    "        years_list.append(dictionaries_list[i][\"Year\"])\n",
    "        hurricane_info.append(dictionaries_list[i])\n",
    "    print(type(years_list))\n",
    "    print(type(hurricane_info))\n",
    "    for year in years_list:\n",
    "        hurricane_year[\"Years\"] = {\n",
    "            hurricane_info[i]\n",
    "            }\n",
    "        #if list(hurricane_year.key()).count(year) < 2:\n",
    "            \n",
    "        #else:\n",
    "            #aggiungere la hurricane info ad una LISTa\n",
    "\n",
    "            \n",
    "\n",
    "\n"
   ]
  },
  {
   "cell_type": "code",
   "execution_count": 23,
   "metadata": {},
   "outputs": [
    {
     "name": "stdout",
     "output_type": "stream",
     "text": [
      "<class 'list'>\n",
      "<class 'list'>\n"
     ]
    },
    {
     "ename": "TypeError",
     "evalue": "unhashable type: 'dict'",
     "output_type": "error",
     "traceback": [
      "\u001b[1;31m---------------------------------------------------------------------------\u001b[0m",
      "\u001b[1;31mTypeError\u001b[0m                                 Traceback (most recent call last)",
      "\u001b[1;32m~\\AppData\\Local\\Temp/ipykernel_14120/3140796777.py\u001b[0m in \u001b[0;36m<module>\u001b[1;34m\u001b[0m\n\u001b[1;32m----> 1\u001b[1;33m \u001b[0mhurricane_dictionary_year\u001b[0m \u001b[1;33m=\u001b[0m \u001b[0mdictionary_by_year\u001b[0m\u001b[1;33m(\u001b[0m\u001b[0mhurricanes_dictionaries\u001b[0m\u001b[1;33m)\u001b[0m\u001b[1;33m\u001b[0m\u001b[1;33m\u001b[0m\u001b[0m\n\u001b[0m",
      "\u001b[1;32m~\\AppData\\Local\\Temp/ipykernel_14120/3022105499.py\u001b[0m in \u001b[0;36mdictionary_by_year\u001b[1;34m(originary_dictionary)\u001b[0m\n\u001b[0;32m     10\u001b[0m     \u001b[0mprint\u001b[0m\u001b[1;33m(\u001b[0m\u001b[0mtype\u001b[0m\u001b[1;33m(\u001b[0m\u001b[0mhurricane_info\u001b[0m\u001b[1;33m)\u001b[0m\u001b[1;33m)\u001b[0m\u001b[1;33m\u001b[0m\u001b[1;33m\u001b[0m\u001b[0m\n\u001b[0;32m     11\u001b[0m     \u001b[1;32mfor\u001b[0m \u001b[0myear\u001b[0m \u001b[1;32min\u001b[0m \u001b[0myears_list\u001b[0m\u001b[1;33m:\u001b[0m\u001b[1;33m\u001b[0m\u001b[1;33m\u001b[0m\u001b[0m\n\u001b[1;32m---> 12\u001b[1;33m         hurricane_year[\"Years\"] = {\n\u001b[0m\u001b[0;32m     13\u001b[0m             \u001b[0mhurricane_info\u001b[0m\u001b[1;33m[\u001b[0m\u001b[0mi\u001b[0m\u001b[1;33m]\u001b[0m\u001b[1;33m\u001b[0m\u001b[1;33m\u001b[0m\u001b[0m\n\u001b[0;32m     14\u001b[0m             }\n",
      "\u001b[1;31mTypeError\u001b[0m: unhashable type: 'dict'"
     ]
    }
   ],
   "source": [
    "hurricane_dictionary_year = dictionary_by_year(hurricanes_dictionaries)"
   ]
  },
  {
   "cell_type": "code",
   "execution_count": 24,
   "metadata": {},
   "outputs": [],
   "source": [
    "c\n",
    "  \"\"\"Convert dictionary with hurricane name as key to a new dictionary with hurricane year as the key and return new dictionary.\"\"\"\n",
    "  hurricanes_by_year = {}\n",
    "  for cane in hurricanes:\n",
    "      current_year = hurricanes[cane]['Year']\n",
    "      current_cane = hurricanes[cane]\n",
    "      if current_year not in hurricanes_by_year:\n",
    "          hurricanes_by_year[current_year] = [current_cane]\n",
    "      else:\n",
    "          hurricanes_by_year[current_year].append(current_cane)\n",
    "  return hurricanes_by_year"
   ]
  },
  {
   "cell_type": "code",
   "execution_count": 40,
   "metadata": {},
   "outputs": [
    {
     "name": "stdout",
     "output_type": "stream",
     "text": [
      "Central America\n",
      "1932\n"
     ]
    }
   ],
   "source": [
    "hurricanes_dictionary_by_year = create_year_dictionary(hurricanes_dictionaries)\n",
    "print(hurricanes_dictionary_by_year[1924][0][\"Areas Affected\"][0])\n",
    "print(hurricanes_dictionary_by_year[1932][0][\"Year\"])"
   ]
  },
  {
   "cell_type": "markdown",
   "metadata": {},
   "source": [
    "You believe that knowing how often each of the areas of the Atlantic are affected by these strong hurricanes is important for making preparations for future hurricanes.\n",
    "\n",
    "Write a function that counts how often each area is listed as an affected area of a hurricane. Store and return the results in a dictionary where the keys are the affected areas and the values are counts of how many times the areas were affected.\n",
    "\n",
    "Test your function on your hurricane dictionary."
   ]
  },
  {
   "cell_type": "code",
   "execution_count": 45,
   "metadata": {},
   "outputs": [
    {
     "data": {
      "text/plain": [
       "['Central America', 'Mexico', 'Cuba', 'Florida', 'The Bahamas']"
      ]
     },
     "execution_count": 45,
     "metadata": {},
     "output_type": "execute_result"
    }
   ],
   "source": [
    "hurricanes_dictionaries['Cuba I'][\"Areas Affected\"]"
   ]
  },
  {
   "cell_type": "code",
   "execution_count": 55,
   "metadata": {},
   "outputs": [],
   "source": [
    "def create_year_dictionary(hurricanes):\n",
    "    hurricane_count_dictionary = {}\n",
    "    total_areas = []\n",
    "    for cane in hurricanes:\n",
    "        current_areas = hurricanes[cane]['Areas Affected']\n",
    "        for area in current_areas:\n",
    "            total_areas.append(area)\n",
    "    for cane in hurricanes:\n",
    "        current_areas = hurricanes[cane]['Areas Affected']\n",
    "    \n",
    "    return total_areas\n",
    "    #return hurricane_count_dictionary      \n",
    "\n",
    "    "
   ]
  },
  {
   "cell_type": "code",
   "execution_count": 56,
   "metadata": {},
   "outputs": [
    {
     "name": "stdout",
     "output_type": "stream",
     "text": [
      "['Central America', 'Mexico', 'Cuba', 'Florida', 'The Bahamas', 'Lesser Antilles', 'The Bahamas', 'United States East Coast', 'Atlantic Canada', 'The Bahamas', 'Northeastern United States', 'Lesser Antilles', 'Jamaica', 'Cayman Islands', 'Cuba', 'The Bahamas', 'Bermuda', 'The Bahamas', 'Cuba', 'Florida', 'Texas', 'Tamaulipas', 'Jamaica', 'Yucatn Peninsula', 'The Bahamas', 'Florida', 'Georgia', 'The Carolinas', 'Virginia', 'Southeastern United States', 'Northeastern United States', 'Southwestern Quebec', 'Bermuda', 'New England', 'Atlantic Canada', 'Lesser Antilles', 'Central America', 'Texas', 'Louisiana', 'Midwestern United States', 'Central America', 'The Caribbean', 'Mexico', 'Texas', 'Cuba', 'United States Gulf Coast', 'The Caribbean', 'Central America', 'Mexico', 'United States Gulf Coast', 'Mexico', 'The Caribbean', 'United States East coast', 'The Caribbean', 'Yucatn Peninsula', 'Mexico', 'South Texas', 'Jamaica', 'Venezuela', 'Central America', 'Hispaniola', 'Mexico', 'The Caribbean', 'United States East Coast', 'The Bahamas', 'Florida', 'United States Gulf Coast', 'Central America', 'Yucatn Peninsula', 'South Florida', 'Greater Antilles', 'Bahamas', 'Eastern United States', 'Ontario', 'The Caribbean', 'Venezuela', 'United States Gulf Coast', 'Windward Islands', 'Jamaica', 'Mexico', 'Texas', 'Bahamas', 'United States Gulf Coast', 'Cuba', 'United States Gulf Coast', 'Greater Antilles', 'Central America', 'Florida', 'The Caribbean', 'Central America', 'Nicaragua', 'Honduras', 'Antilles', 'Venezuela', 'Colombia', 'United States East Coast', 'Atlantic Canada', 'Cape Verde', 'The Caribbean', 'British Virgin Islands', 'U.S. Virgin Islands', 'Cuba', 'Florida', 'Lesser Antilles', 'Virgin Islands', 'Puerto Rico', 'Dominican Republic', 'Turks and Caicos Islands', 'Central America', 'United States Gulf Coast (especially Florida Panhandle)']\n"
     ]
    }
   ],
   "source": [
    "hurricane_count_dictionary = create_year_dictionary(hurricanes_dictionaries)\n",
    "print(hurricane_count_dictionary)"
   ]
  }
 ],
 "metadata": {
  "interpreter": {
   "hash": "c64659799d540f3c0cef722e5a9676765767ee7673080d93c86c8bbb95c72b5a"
  },
  "kernelspec": {
   "display_name": "Python 3.9.7 64-bit ('base': conda)",
   "language": "python",
   "name": "python3"
  },
  "language_info": {
   "codemirror_mode": {
    "name": "ipython",
    "version": 3
   },
   "file_extension": ".py",
   "mimetype": "text/x-python",
   "name": "python",
   "nbconvert_exporter": "python",
   "pygments_lexer": "ipython3",
   "version": "3.9.7"
  },
  "orig_nbformat": 4
 },
 "nbformat": 4,
 "nbformat_minor": 2
}
